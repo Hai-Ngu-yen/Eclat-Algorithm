{
  "nbformat": 4,
  "nbformat_minor": 0,
  "metadata": {
    "colab": {
      "name": "Eclat.ipynb",
      "provenance": [],
      "collapsed_sections": []
    },
    "kernelspec": {
      "name": "python3",
      "display_name": "Python 3"
    },
    "language_info": {
      "name": "python"
    }
  },
  "cells": [
    {
      "cell_type": "code",
      "source": [
        "#Liên kết với google drive\n",
        "from google.colab import drive\n",
        "drive.mount('/content/drive/')"
      ],
      "metadata": {
        "colab": {
          "base_uri": "https://localhost:8080/"
        },
        "id": "XV0jkXhDj6Ei",
        "outputId": "0a841510-4c15-4c51-a57c-d96537f225cf"
      },
      "execution_count": 1,
      "outputs": [
        {
          "output_type": "stream",
          "name": "stdout",
          "text": [
            "Mounted at /content/drive/\n"
          ]
        }
      ]
    },
    {
      "cell_type": "code",
      "source": [
        "#Đọc file\n",
        "f = open('/content/drive/My Drive/Data/data2.txt', 'r')\n",
        "datalist = f.readlines() \n",
        "print(datalist)\n",
        "f.close()"
      ],
      "metadata": {
        "colab": {
          "base_uri": "https://localhost:8080/"
        },
        "id": "DGl5a77-kGsQ",
        "outputId": "13d0ef9b-c24f-4c27-d83d-36a6714ea7ef"
      },
      "execution_count": 111,
      "outputs": [
        {
          "output_type": "stream",
          "name": "stdout",
          "text": [
            "['3\\n', 'A B D E\\n', 'B C E\\n', 'A B D E\\n', 'A B C E\\n', 'A B C D E\\n', 'B C D']\n"
          ]
        }
      ]
    },
    {
      "cell_type": "code",
      "source": [
        "#Minsup ở dòng đầu tiên\n",
        "minsup = int(datalist[0])\n",
        "print(minsup)"
      ],
      "metadata": {
        "colab": {
          "base_uri": "https://localhost:8080/"
        },
        "id": "7XSAfcLok1fW",
        "outputId": "5cf3f381-4864-4706-bbb0-6a984ad353ab"
      },
      "execution_count": 112,
      "outputs": [
        {
          "output_type": "stream",
          "name": "stdout",
          "text": [
            "3\n"
          ]
        }
      ]
    },
    {
      "cell_type": "code",
      "source": [
        "#Lưu các item vào list\n",
        "data = []\n",
        "for i in range(1, len(datalist)):\n",
        " tmp = datalist[i].split(\" \")\n",
        " tmp[-1] = tmp[-1].strip()\n",
        " data.append(tmp)\n",
        "\n",
        "print(data)"
      ],
      "metadata": {
        "colab": {
          "base_uri": "https://localhost:8080/"
        },
        "id": "eeyG-wIOlegH",
        "outputId": "2f8be2bd-3867-43cd-df20-194773778983"
      },
      "execution_count": 113,
      "outputs": [
        {
          "output_type": "stream",
          "name": "stdout",
          "text": [
            "[['A', 'B', 'D', 'E'], ['B', 'C', 'E'], ['A', 'B', 'D', 'E'], ['A', 'B', 'C', 'E'], ['A', 'B', 'C', 'D', 'E'], ['B', 'C', 'D']]\n"
          ]
        }
      ]
    },
    {
      "cell_type": "code",
      "source": [
        "item = []\n",
        "for i in data:\n",
        "  for j in i:\n",
        "    item.append(j)\n",
        "\n",
        "item = sorted(set(item))\n",
        "print(item)"
      ],
      "metadata": {
        "colab": {
          "base_uri": "https://localhost:8080/"
        },
        "id": "CbARRxy_pfzl",
        "outputId": "9c81aa4f-54f3-4e0a-b1ad-307e85cc9d4c"
      },
      "execution_count": 114,
      "outputs": [
        {
          "output_type": "stream",
          "name": "stdout",
          "text": [
            "['A', 'B', 'C', 'D', 'E']\n"
          ]
        }
      ]
    },
    {
      "cell_type": "code",
      "source": [
        "item_sup = []\n",
        "item_tid = []\n",
        "for i in item:\n",
        "  count = 0\n",
        "  tid = set()\n",
        "  for j in range(len(data)):\n",
        "    if i in data[j]:\n",
        "      count = count + 1\n",
        "      tid.add(j+1)\n",
        "  if count < minsup:\n",
        "    continue\n",
        "  item_sup.append([i, count])\n",
        "  item_tid.append([{i}, tid])\n",
        "\n",
        "print(item_sup)\n",
        "print(item_tid)"
      ],
      "metadata": {
        "colab": {
          "base_uri": "https://localhost:8080/"
        },
        "id": "JcSiDq3FraSW",
        "outputId": "3c96161a-07e3-43d1-9c31-9eea41648396"
      },
      "execution_count": 115,
      "outputs": [
        {
          "output_type": "stream",
          "name": "stdout",
          "text": [
            "[['A', 4], ['B', 6], ['C', 4], ['D', 4], ['E', 5]]\n",
            "[[{'A'}, {1, 3, 4, 5}], [{'B'}, {1, 2, 3, 4, 5, 6}], [{'C'}, {2, 4, 5, 6}], [{'D'}, {1, 3, 5, 6}], [{'E'}, {1, 2, 3, 4, 5}]]\n"
          ]
        }
      ]
    },
    {
      "cell_type": "code",
      "execution_count": 116,
      "metadata": {
        "id": "gMSuSIIorKhB"
      },
      "outputs": [],
      "source": [
        "#Hàm Eclat\n",
        "def eclat(P, minsup, F):\n",
        "  tmp = P.copy()\n",
        "  for i in P:\n",
        "    F.append([i[0], len(i[1])])\n",
        "    Pa = []  \n",
        "    tmp.remove(i)\n",
        "    #print(tmp)\n",
        "    for j in tmp:\n",
        "      Xab = sorted(i[0] | j[0])\n",
        "      Tab = i[1] & j[1]\n",
        "      #print(Xab, Tab)\n",
        "      if len(Tab) >= minsup:\n",
        "        Pa.append([set(Xab), Tab])\n",
        "\n",
        "    if len(Pa) != 0:\n",
        "      eclat(Pa, minsup, F)"
      ]
    },
    {
      "cell_type": "code",
      "source": [
        "#Thực thi\n",
        "F = []\n",
        "\n",
        "eclat(item_tid, minsup, F)\n",
        "\n",
        "F"
      ],
      "metadata": {
        "colab": {
          "base_uri": "https://localhost:8080/"
        },
        "id": "0F_1mkaOPt2q",
        "outputId": "312aa375-6415-4072-e8f8-1fd614a0af42"
      },
      "execution_count": 117,
      "outputs": [
        {
          "output_type": "execute_result",
          "data": {
            "text/plain": [
              "[[{'A'}, 4],\n",
              " [{'A', 'B'}, 4],\n",
              " [{'A', 'B', 'D'}, 3],\n",
              " [{'A', 'B', 'D', 'E'}, 3],\n",
              " [{'A', 'B', 'E'}, 4],\n",
              " [{'A', 'D'}, 3],\n",
              " [{'A', 'D', 'E'}, 3],\n",
              " [{'A', 'E'}, 4],\n",
              " [{'B'}, 6],\n",
              " [{'B', 'C'}, 4],\n",
              " [{'B', 'C', 'E'}, 3],\n",
              " [{'B', 'D'}, 4],\n",
              " [{'B', 'D', 'E'}, 3],\n",
              " [{'B', 'E'}, 5],\n",
              " [{'C'}, 4],\n",
              " [{'C', 'E'}, 3],\n",
              " [{'D'}, 4],\n",
              " [{'D', 'E'}, 3],\n",
              " [{'E'}, 5]]"
            ]
          },
          "metadata": {},
          "execution_count": 117
        }
      ]
    }
  ]
}